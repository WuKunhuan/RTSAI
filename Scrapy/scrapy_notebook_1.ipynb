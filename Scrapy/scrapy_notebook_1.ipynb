{
 "cells": [
  {
   "cell_type": "markdown",
   "metadata": {},
   "source": [
    "# Scrapy Notebook 1\n",
    "\n",
    "------"
   ]
  },
  {
   "cell_type": "markdown",
   "metadata": {},
   "source": [
    "There is already a mature, stable and powerful crawler framework in the Python crawler ecosystem. It is Scrapy. \n",
    "\n",
    "Scrapy framework is a framework that must be mastered when learning and working with Python crawlers. \n",
    "\n",
    "GitHub: https://github.com/scrapy/scrapy"
   ]
  },
  {
   "cell_type": "markdown",
   "metadata": {},
   "source": [
    "## Scrapy Introduction"
   ]
  },
  {
   "cell_type": "markdown",
   "metadata": {},
   "source": [
    "![\"Framework\"](assets/images/framework_overview.png \"Title\")"
   ]
  },
  {
   "cell_type": "markdown",
   "metadata": {},
   "source": [
    "#### Import scrapy package"
   ]
  },
  {
   "cell_type": "code",
   "execution_count": 1,
   "metadata": {},
   "outputs": [
    {
     "name": "stdout",
     "output_type": "stream",
     "text": [
      "scrapy import successful! \n"
     ]
    }
   ],
   "source": [
    "try: \n",
    "    try: \n",
    "        import scrapy\n",
    "    except: \n",
    "        print (\"Installing the scrapy package ...\")\n",
    "        import subprocess; subprocess.run([\"pip\", \"install\", \"scrapy\", \"--quiet\"])\n",
    "        import scrapy\n",
    "    print (\"scrapy import successful! \")\n",
    "except: print (\"scrapy import failed! \")"
   ]
  },
  {
   "cell_type": "markdown",
   "metadata": {},
   "source": [
    "#### Start a scrapy project"
   ]
  },
  {
   "cell_type": "code",
   "execution_count": 2,
   "metadata": {},
   "outputs": [
    {
     "name": "stdout",
     "output_type": "stream",
     "text": [
      "New Scrapy project 'myproject', using template directory '/Users/abc/.pyenv/versions/3.12.0/lib/python3.12/site-packages/scrapy/templates/project', created in:\n",
      "    /Users/abc/Desktop/Scrapy/myproject\n",
      "\n",
      "You can start your first spider with:\n",
      "    cd myproject\n",
      "    scrapy genspider example example.com\n"
     ]
    }
   ],
   "source": [
    "!scrapy startproject myproject\n",
    "!cd myproject"
   ]
  },
  {
   "cell_type": "markdown",
   "metadata": {},
   "source": [
    "#### Create a spider"
   ]
  },
  {
   "cell_type": "code",
   "execution_count": 3,
   "metadata": {},
   "outputs": [
    {
     "name": "stdout",
     "output_type": "stream",
     "text": [
      "Created spider 'hku' using template 'basic' \n"
     ]
    }
   ],
   "source": [
    "!scrapy genspider hku https://www.hku.hk/"
   ]
  },
  {
   "cell_type": "markdown",
   "metadata": {},
   "source": [
    "#### Final product"
   ]
  },
  {
   "cell_type": "markdown",
   "metadata": {},
   "source": [
    "![\"Final product\"](assets/images/notebook_1.png \"Title\")"
   ]
  }
 ],
 "metadata": {
  "kernelspec": {
   "display_name": "Python 3",
   "language": "python",
   "name": "python3"
  },
  "language_info": {
   "codemirror_mode": {
    "name": "ipython",
    "version": 3
   },
   "file_extension": ".py",
   "mimetype": "text/x-python",
   "name": "python",
   "nbconvert_exporter": "python",
   "pygments_lexer": "ipython3",
   "version": "3.12.0"
  }
 },
 "nbformat": 4,
 "nbformat_minor": 2
}
